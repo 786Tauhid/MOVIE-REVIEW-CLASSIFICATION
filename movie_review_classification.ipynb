{
  "nbformat": 4,
  "nbformat_minor": 0,
  "metadata": {
    "colab": {
      "name": "movie review classification",
      "provenance": [],
      "collapsed_sections": [],
      "machine_shape": "hm",
      "mount_file_id": "1LMZFmnqDnTeLQhnyiBeqEa6MzBFo0cLl",
      "authorship_tag": "ABX9TyNbiQ7sApwVedNJ92l6QeQc",
      "include_colab_link": true
    },
    "kernelspec": {
      "name": "python3",
      "display_name": "Python 3"
    },
    "accelerator": "TPU"
  },
  "cells": [
    {
      "cell_type": "markdown",
      "metadata": {
        "id": "view-in-github",
        "colab_type": "text"
      },
      "source": [
        "<a href=\"https://colab.research.google.com/github/786Tauhid/MOVIE-REVIEW-CLASSIFICATION/blob/master/movie_review_classification.ipynb\" target=\"_parent\"><img src=\"https://colab.research.google.com/assets/colab-badge.svg\" alt=\"Open In Colab\"/></a>"
      ]
    },
    {
      "cell_type": "markdown",
      "metadata": {
        "id": "mrwtUy5VdhN-",
        "colab_type": "text"
      },
      "source": [
        "# IMPORTING IMORTANT LIBRARY"
      ]
    },
    {
      "cell_type": "markdown",
      "metadata": {
        "id": "-kSH7WayNpNs",
        "colab_type": "text"
      },
      "source": [
        "# IMPORTING REQUIRED LIBRARY"
      ]
    },
    {
      "cell_type": "code",
      "metadata": {
        "id": "sntLa4Mv7Ji4",
        "colab_type": "code",
        "colab": {}
      },
      "source": [
        "import numpy as np\n",
        "import pandas as pd\n",
        "import matplotlib.pyplot as plt\n",
        "from sklearn.feature_extraction.text import CountVectorizer\n",
        "from sklearn.preprocessing import LabelEncoder"
      ],
      "execution_count": 0,
      "outputs": []
    },
    {
      "cell_type": "markdown",
      "metadata": {
        "id": "NgZp0mKpouhn",
        "colab_type": "text"
      },
      "source": [
        ""
      ]
    },
    {
      "cell_type": "code",
      "metadata": {
        "id": "GpmHPNJmeaTo",
        "colab_type": "code",
        "colab": {}
      },
      "source": [
        "le=LabelEncoder()\n",
        "cv=CountVectorizer(max_features=35000)\n",
        "cv1=CountVectorizer(max_features=20000) # here max_features means i am considering top 35000 features (top features according to frequency)"
      ],
      "execution_count": 0,
      "outputs": []
    },
    {
      "cell_type": "markdown",
      "metadata": {
        "id": "hcx5IZYGB_5W",
        "colab_type": "text"
      },
      "source": [
        "# New Section"
      ]
    },
    {
      "cell_type": "markdown",
      "metadata": {
        "id": "rmR_2exE0g7d",
        "colab_type": "text"
      },
      "source": [
        "# DATA PREPARATION"
      ]
    },
    {
      "cell_type": "code",
      "metadata": {
        "id": "Y9egfatR8GMz",
        "colab_type": "code",
        "colab": {}
      },
      "source": [
        "df1=pd.read_csv('/content/drive/My Drive/movie rating prediction train.csv')\n",
        "df2=pd.read_csv('/content/drive/My Drive/Test.csv')"
      ],
      "execution_count": 0,
      "outputs": []
    },
    {
      "cell_type": "code",
      "metadata": {
        "id": "mXP2jN4I9QR6",
        "colab_type": "code",
        "outputId": "cb245819-0cc7-4c59-d504-062887416c0a",
        "colab": {
          "base_uri": "https://localhost:8080/",
          "height": 195
        }
      },
      "source": [
        "df1.head(n=5)"
      ],
      "execution_count": 4,
      "outputs": [
        {
          "output_type": "execute_result",
          "data": {
            "text/html": [
              "<div>\n",
              "<style scoped>\n",
              "    .dataframe tbody tr th:only-of-type {\n",
              "        vertical-align: middle;\n",
              "    }\n",
              "\n",
              "    .dataframe tbody tr th {\n",
              "        vertical-align: top;\n",
              "    }\n",
              "\n",
              "    .dataframe thead th {\n",
              "        text-align: right;\n",
              "    }\n",
              "</style>\n",
              "<table border=\"1\" class=\"dataframe\">\n",
              "  <thead>\n",
              "    <tr style=\"text-align: right;\">\n",
              "      <th></th>\n",
              "      <th>review</th>\n",
              "      <th>label</th>\n",
              "    </tr>\n",
              "  </thead>\n",
              "  <tbody>\n",
              "    <tr>\n",
              "      <th>0</th>\n",
              "      <td>mature intelligent and highly charged melodram...</td>\n",
              "      <td>pos</td>\n",
              "    </tr>\n",
              "    <tr>\n",
              "      <th>1</th>\n",
              "      <td>http://video.google.com/videoplay?docid=211772...</td>\n",
              "      <td>pos</td>\n",
              "    </tr>\n",
              "    <tr>\n",
              "      <th>2</th>\n",
              "      <td>Title: Opera (1987) Director: Dario Argento Ca...</td>\n",
              "      <td>pos</td>\n",
              "    </tr>\n",
              "    <tr>\n",
              "      <th>3</th>\n",
              "      <td>I think a lot of people just wrote this off as...</td>\n",
              "      <td>pos</td>\n",
              "    </tr>\n",
              "    <tr>\n",
              "      <th>4</th>\n",
              "      <td>This is a story of two dogs and a cat looking ...</td>\n",
              "      <td>pos</td>\n",
              "    </tr>\n",
              "  </tbody>\n",
              "</table>\n",
              "</div>"
            ],
            "text/plain": [
              "                                              review label\n",
              "0  mature intelligent and highly charged melodram...   pos\n",
              "1  http://video.google.com/videoplay?docid=211772...   pos\n",
              "2  Title: Opera (1987) Director: Dario Argento Ca...   pos\n",
              "3  I think a lot of people just wrote this off as...   pos\n",
              "4  This is a story of two dogs and a cat looking ...   pos"
            ]
          },
          "metadata": {
            "tags": []
          },
          "execution_count": 4
        }
      ]
    },
    {
      "cell_type": "code",
      "metadata": {
        "id": "eiW30DCYEka0",
        "colab_type": "code",
        "outputId": "236b95ce-cb29-4196-f5d3-273f02fb8a36",
        "colab": {
          "base_uri": "https://localhost:8080/",
          "height": 195
        }
      },
      "source": [
        "df2.head(n=5)"
      ],
      "execution_count": 5,
      "outputs": [
        {
          "output_type": "execute_result",
          "data": {
            "text/html": [
              "<div>\n",
              "<style scoped>\n",
              "    .dataframe tbody tr th:only-of-type {\n",
              "        vertical-align: middle;\n",
              "    }\n",
              "\n",
              "    .dataframe tbody tr th {\n",
              "        vertical-align: top;\n",
              "    }\n",
              "\n",
              "    .dataframe thead th {\n",
              "        text-align: right;\n",
              "    }\n",
              "</style>\n",
              "<table border=\"1\" class=\"dataframe\">\n",
              "  <thead>\n",
              "    <tr style=\"text-align: right;\">\n",
              "      <th></th>\n",
              "      <th>review</th>\n",
              "    </tr>\n",
              "  </thead>\n",
              "  <tbody>\n",
              "    <tr>\n",
              "      <th>0</th>\n",
              "      <td>Remember those old kung fu movies we used to w...</td>\n",
              "    </tr>\n",
              "    <tr>\n",
              "      <th>1</th>\n",
              "      <td>This movie is another one on my List of Movies...</td>\n",
              "    </tr>\n",
              "    <tr>\n",
              "      <th>2</th>\n",
              "      <td>How in the world does a thing like this get in...</td>\n",
              "    </tr>\n",
              "    <tr>\n",
              "      <th>3</th>\n",
              "      <td>\"Queen of the Damned\" is one of the best vampi...</td>\n",
              "    </tr>\n",
              "    <tr>\n",
              "      <th>4</th>\n",
              "      <td>The Caprica episode (S01E01) is well done as a...</td>\n",
              "    </tr>\n",
              "  </tbody>\n",
              "</table>\n",
              "</div>"
            ],
            "text/plain": [
              "                                              review\n",
              "0  Remember those old kung fu movies we used to w...\n",
              "1  This movie is another one on my List of Movies...\n",
              "2  How in the world does a thing like this get in...\n",
              "3  \"Queen of the Damned\" is one of the best vampi...\n",
              "4  The Caprica episode (S01E01) is well done as a..."
            ]
          },
          "metadata": {
            "tags": []
          },
          "execution_count": 5
        }
      ]
    },
    {
      "cell_type": "code",
      "metadata": {
        "id": "-Ik2prurcgqU",
        "colab_type": "code",
        "colab": {}
      },
      "source": [
        "df1['label']=le.fit_transform(df1['label']) # changing label value from text to numeric value it leads to 1 for +ve 0 for -ve"
      ],
      "execution_count": 0,
      "outputs": []
    },
    {
      "cell_type": "code",
      "metadata": {
        "id": "xsv2UwHh1LXL",
        "colab_type": "code",
        "outputId": "fb9b5918-5631-4e33-ea22-e7bdeaf5a3c1",
        "colab": {
          "base_uri": "https://localhost:8080/",
          "height": 343
        }
      },
      "source": [
        "df1.head(n=10)"
      ],
      "execution_count": 7,
      "outputs": [
        {
          "output_type": "execute_result",
          "data": {
            "text/html": [
              "<div>\n",
              "<style scoped>\n",
              "    .dataframe tbody tr th:only-of-type {\n",
              "        vertical-align: middle;\n",
              "    }\n",
              "\n",
              "    .dataframe tbody tr th {\n",
              "        vertical-align: top;\n",
              "    }\n",
              "\n",
              "    .dataframe thead th {\n",
              "        text-align: right;\n",
              "    }\n",
              "</style>\n",
              "<table border=\"1\" class=\"dataframe\">\n",
              "  <thead>\n",
              "    <tr style=\"text-align: right;\">\n",
              "      <th></th>\n",
              "      <th>review</th>\n",
              "      <th>label</th>\n",
              "    </tr>\n",
              "  </thead>\n",
              "  <tbody>\n",
              "    <tr>\n",
              "      <th>0</th>\n",
              "      <td>mature intelligent and highly charged melodram...</td>\n",
              "      <td>1</td>\n",
              "    </tr>\n",
              "    <tr>\n",
              "      <th>1</th>\n",
              "      <td>http://video.google.com/videoplay?docid=211772...</td>\n",
              "      <td>1</td>\n",
              "    </tr>\n",
              "    <tr>\n",
              "      <th>2</th>\n",
              "      <td>Title: Opera (1987) Director: Dario Argento Ca...</td>\n",
              "      <td>1</td>\n",
              "    </tr>\n",
              "    <tr>\n",
              "      <th>3</th>\n",
              "      <td>I think a lot of people just wrote this off as...</td>\n",
              "      <td>1</td>\n",
              "    </tr>\n",
              "    <tr>\n",
              "      <th>4</th>\n",
              "      <td>This is a story of two dogs and a cat looking ...</td>\n",
              "      <td>1</td>\n",
              "    </tr>\n",
              "    <tr>\n",
              "      <th>5</th>\n",
              "      <td>Steve Carell comes into his own in his first s...</td>\n",
              "      <td>1</td>\n",
              "    </tr>\n",
              "    <tr>\n",
              "      <th>6</th>\n",
              "      <td>I'm only going to write more because it's requ...</td>\n",
              "      <td>0</td>\n",
              "    </tr>\n",
              "    <tr>\n",
              "      <th>7</th>\n",
              "      <td>OK, it was a \"risky\" move to rent this flick, ...</td>\n",
              "      <td>0</td>\n",
              "    </tr>\n",
              "    <tr>\n",
              "      <th>8</th>\n",
              "      <td>Cannibalism, a pair of cinematic references to...</td>\n",
              "      <td>1</td>\n",
              "    </tr>\n",
              "    <tr>\n",
              "      <th>9</th>\n",
              "      <td>This is one of the great modern kung fu films....</td>\n",
              "      <td>1</td>\n",
              "    </tr>\n",
              "  </tbody>\n",
              "</table>\n",
              "</div>"
            ],
            "text/plain": [
              "                                              review  label\n",
              "0  mature intelligent and highly charged melodram...      1\n",
              "1  http://video.google.com/videoplay?docid=211772...      1\n",
              "2  Title: Opera (1987) Director: Dario Argento Ca...      1\n",
              "3  I think a lot of people just wrote this off as...      1\n",
              "4  This is a story of two dogs and a cat looking ...      1\n",
              "5  Steve Carell comes into his own in his first s...      1\n",
              "6  I'm only going to write more because it's requ...      0\n",
              "7  OK, it was a \"risky\" move to rent this flick, ...      0\n",
              "8  Cannibalism, a pair of cinematic references to...      1\n",
              "9  This is one of the great modern kung fu films....      1"
            ]
          },
          "metadata": {
            "tags": []
          },
          "execution_count": 7
        }
      ]
    },
    {
      "cell_type": "markdown",
      "metadata": {
        "id": "cLtPFMfTQeK8",
        "colab_type": "text"
      },
      "source": [
        "- used count vectrozier to convert text type data into numeric\n",
        "- we get all features in numeric type"
      ]
    },
    {
      "cell_type": "code",
      "metadata": {
        "id": "p53kmJ_7cYuy",
        "colab_type": "code",
        "colab": {}
      },
      "source": [
        "train_x=cv.fit_transform(df1['review']).toarray() # it return a sparse matrix of size((size of example,max_features))\n",
        "\n",
        "train_x1=cv1.fit_transform(df1['review']).toarray()"
      ],
      "execution_count": 0,
      "outputs": []
    },
    {
      "cell_type": "code",
      "metadata": {
        "id": "7sHsf9j82v35",
        "colab_type": "code",
        "outputId": "4206e5fb-bfb3-4f4d-e6d5-09f33e98725a",
        "colab": {
          "base_uri": "https://localhost:8080/",
          "height": 34
        }
      },
      "source": [
        "train_x.shape"
      ],
      "execution_count": 9,
      "outputs": [
        {
          "output_type": "execute_result",
          "data": {
            "text/plain": [
              "(40000, 35000)"
            ]
          },
          "metadata": {
            "tags": []
          },
          "execution_count": 9
        }
      ]
    },
    {
      "cell_type": "code",
      "metadata": {
        "id": "SjXqmt5W1OAO",
        "colab_type": "code",
        "colab": {}
      },
      "source": [
        "\n",
        "test_x=cv.transform(df2['review']).toarray()\n",
        "test_x1=cv1.transform(df2['review']).toarray()"
      ],
      "execution_count": 0,
      "outputs": []
    },
    {
      "cell_type": "code",
      "metadata": {
        "id": "fJj2fDRRBsQi",
        "colab_type": "code",
        "outputId": "8a844ecd-3431-448a-c199-a6fa3b8d5b89",
        "colab": {
          "base_uri": "https://localhost:8080/",
          "height": 34
        }
      },
      "source": [
        "train_x.dtype"
      ],
      "execution_count": 11,
      "outputs": [
        {
          "output_type": "execute_result",
          "data": {
            "text/plain": [
              "dtype('int64')"
            ]
          },
          "metadata": {
            "tags": []
          },
          "execution_count": 11
        }
      ]
    },
    {
      "cell_type": "code",
      "metadata": {
        "id": "JJb7tb-pGfh4",
        "colab_type": "code",
        "outputId": "44cd70b9-ed29-4371-feb4-4b1a98e0612c",
        "colab": {
          "base_uri": "https://localhost:8080/",
          "height": 34
        }
      },
      "source": [
        "test_x.shape"
      ],
      "execution_count": 12,
      "outputs": [
        {
          "output_type": "execute_result",
          "data": {
            "text/plain": [
              "(10000, 35000)"
            ]
          },
          "metadata": {
            "tags": []
          },
          "execution_count": 12
        }
      ]
    },
    {
      "cell_type": "code",
      "metadata": {
        "id": "a1bitIVeCGgg",
        "colab_type": "code",
        "outputId": "d3b51180-7430-4c73-9167-3fe6206a5aa3",
        "colab": {
          "base_uri": "https://localhost:8080/",
          "height": 34
        }
      },
      "source": [
        "test_x.dtype"
      ],
      "execution_count": 13,
      "outputs": [
        {
          "output_type": "execute_result",
          "data": {
            "text/plain": [
              "dtype('int64')"
            ]
          },
          "metadata": {
            "tags": []
          },
          "execution_count": 13
        }
      ]
    },
    {
      "cell_type": "code",
      "metadata": {
        "id": "fAF19hfp5CIl",
        "colab_type": "code",
        "outputId": "5e7cb331-8b7c-485e-f81a-0f56cd0ad68e",
        "colab": {
          "base_uri": "https://localhost:8080/",
          "height": 134
        }
      },
      "source": [
        "print(train_x)"
      ],
      "execution_count": 14,
      "outputs": [
        {
          "output_type": "stream",
          "text": [
            "[[0 0 0 ... 0 0 0]\n",
            " [0 0 0 ... 0 0 0]\n",
            " [0 0 0 ... 0 0 0]\n",
            " ...\n",
            " [0 0 0 ... 0 0 0]\n",
            " [0 0 0 ... 0 0 0]\n",
            " [0 0 0 ... 0 0 0]]\n"
          ],
          "name": "stdout"
        }
      ]
    },
    {
      "cell_type": "code",
      "metadata": {
        "id": "4M4xULblGi1W",
        "colab_type": "code",
        "outputId": "c6f65aee-9801-4f32-f940-0f02947b4860",
        "colab": {
          "base_uri": "https://localhost:8080/",
          "height": 134
        }
      },
      "source": [
        "print(test_x)"
      ],
      "execution_count": 15,
      "outputs": [
        {
          "output_type": "stream",
          "text": [
            "[[0 0 0 ... 0 0 0]\n",
            " [0 0 0 ... 0 0 0]\n",
            " [0 0 0 ... 0 0 0]\n",
            " ...\n",
            " [0 0 0 ... 0 0 0]\n",
            " [0 0 0 ... 0 0 0]\n",
            " [0 0 0 ... 0 0 0]]\n"
          ],
          "name": "stdout"
        }
      ]
    },
    {
      "cell_type": "code",
      "metadata": {
        "id": "xnEnB6lK5_3Q",
        "colab_type": "code",
        "outputId": "88a382e1-65de-4cae-f96c-723ebb469ddf",
        "colab": {
          "base_uri": "https://localhost:8080/",
          "height": 1000
        }
      },
      "source": [
        "cv.vocabulary_   #vocablury created for given data by count vectorizer it consists of top 35k word which occur frequently"
      ],
      "execution_count": 16,
      "outputs": [
        {
          "output_type": "execute_result",
          "data": {
            "text/plain": [
              "{'mature': 19415,\n",
              " 'intelligent': 16104,\n",
              " 'and': 1449,\n",
              " 'highly': 14595,\n",
              " 'charged': 5329,\n",
              " 'melodrama': 19680,\n",
              " 'filmed': 11673,\n",
              " 'in': 15568,\n",
              " 'china': 5558,\n",
              " '1948': 142,\n",
              " 'wei': 34041,\n",
              " 'stunning': 30060,\n",
              " 'performance': 22941,\n",
              " 'as': 1976,\n",
              " 'the': 31240,\n",
              " 'love': 18579,\n",
              " 'triangle': 32056,\n",
              " 'is': 16413,\n",
              " 'simply': 28322,\n",
              " 'if': 15319,\n",
              " 'you': 34818,\n",
              " 'have': 14202,\n",
              " 'to': 31589,\n",
              " 'see': 27477,\n",
              " 'this': 31333,\n",
              " 'magnificent': 18887,\n",
              " 'film': 11670,\n",
              " 'take': 30775,\n",
              " 'it': 16454,\n",
              " 'http': 15037,\n",
              " 'video': 33436,\n",
              " 'google': 13255,\n",
              " 'com': 6205,\n",
              " 'en': 10302,\n",
              " 'distribution': 9059,\n",
              " 'was': 33879,\n",
              " 'tried': 32078,\n",
              " 'br': 3974,\n",
              " 'we': 33971,\n",
              " 'opted': 21946,\n",
              " 'for': 12099,\n",
              " 'mass': 19317,\n",
              " 'appeal': 1709,\n",
              " 'want': 33814,\n",
              " 'best': 3198,\n",
              " 'possible': 23787,\n",
              " 'viewing': 33461,\n",
              " 'range': 24979,\n",
              " 'so': 28853,\n",
              " 'forgo': 12165,\n",
              " 'profit': 24248,\n",
              " 'continue': 6799,\n",
              " 'our': 22090,\n",
              " 'manual': 19123,\n",
              " 'labor': 17531,\n",
              " 'jobs': 16761,\n",
              " 'gladly': 13056,\n",
              " 'entertain': 10496,\n",
              " 'working': 34538,\n",
              " 'yours': 34828,\n",
              " 'view': 33456,\n",
              " 'texas': 31204,\n",
              " 'tale': 30788,\n",
              " 'please': 23469,\n",
              " 'write': 34628,\n",
              " 'about': 449,\n",
              " 'like': 18181,\n",
              " 'or': 21961,\n",
              " 'not': 21443,\n",
              " 'alex': 1107,\n",
              " 'just': 16962,\n",
              " 'your': 34827,\n",
              " 'opinion': 21920,\n",
              " 'rules': 26639,\n",
              " 'title': 31570,\n",
              " 'opera': 21904,\n",
              " '1987': 185,\n",
              " 'director': 8755,\n",
              " 'dario': 7790,\n",
              " 'argento': 1841,\n",
              " 'cast': 5005,\n",
              " 'cristina': 7341,\n",
              " 'ian': 15250,\n",
              " 'charleson': 5345,\n",
              " 'daria': 7786,\n",
              " 'nicolodi': 21253,\n",
              " 'review': 26033,\n",
              " 'only': 21870,\n",
              " 'other': 22077,\n",
              " 'movie': 20607,\n",
              " 'had': 13842,\n",
              " 'seen': 27496,\n",
              " 'suspiria': 30486,\n",
              " 'that': 31235,\n",
              " 'one': 21861,\n",
              " 'blew': 3523,\n",
              " 'me': 19557,\n",
              " 'away': 2389,\n",
              " 'with': 34409,\n",
              " 'its': 16465,\n",
              " 'style': 30084,\n",
              " 'colors': 6186,\n",
              " 'spooky': 29348,\n",
              " 'story': 29860,\n",
              " 'line': 18245,\n",
              " 'next': 21218,\n",
              " 'decided': 7994,\n",
              " 'go': 13149,\n",
              " 'been': 2961,\n",
              " 'told': 31623,\n",
              " 'of': 21731,\n",
              " 'his': 14679,\n",
              " 'man': 19017,\n",
              " 'think': 31315,\n",
              " 'discovering': 8845,\n",
              " 'what': 34120,\n",
              " 'will': 34291,\n",
              " 'ultimately': 32445,\n",
              " 'be': 2860,\n",
              " 'my': 20810,\n",
              " 'favorite': 11420,\n",
              " 'horror': 14943,\n",
              " 'directors': 8757,\n",
              " 'young': 34819,\n",
              " 'singer': 28346,\n",
              " 'who': 34199,\n",
              " 'gets': 12927,\n",
              " 'her': 14471,\n",
              " 'big': 3285,\n",
              " 'break': 4053,\n",
              " 'when': 34134,\n",
              " 'main': 18917,\n",
              " 'star': 29571,\n",
              " 'creepy': 7297,\n",
              " 'modern': 20249,\n",
              " 'on': 21850,\n",
              " 'mc': 19464,\n",
              " 'beth': 3210,\n",
              " 'hit': 14697,\n",
              " 'by': 4545,\n",
              " 'car': 4828,\n",
              " 'betty': 3230,\n",
              " 'understudy': 32630,\n",
              " 'she': 27895,\n",
              " 'do': 9132,\n",
              " 'part': 22595,\n",
              " 'herself': 14527,\n",
              " 'too': 31676,\n",
              " 'bad': 2503,\n",
              " 'there': 31277,\n",
              " 'psycho': 24485,\n",
              " 'after': 897,\n",
              " 'makes': 18945,\n",
              " 'watch': 33909,\n",
              " 'brutal': 4279,\n",
              " 'murders': 20735,\n",
              " 'friends': 12401,\n",
              " 'co': 6010,\n",
              " 'workers': 34537,\n",
              " 'wow': 34585,\n",
              " 'id': 15275,\n",
              " 'heard': 14295,\n",
              " 'good': 13230,\n",
              " 'things': 31313,\n",
              " 'here': 14485,\n",
              " 'flick': 11912,\n",
              " 'but': 4511,\n",
              " 'wasn': 33889,\n",
              " 'prepared': 24006,\n",
              " 'level': 18066,\n",
              " 'greatness': 13474,\n",
              " 'which': 34148,\n",
              " 'would': 34575,\n",
              " 'yeah': 34749,\n",
              " 'has': 14148,\n",
              " 'shortcomings': 28064,\n",
              " 'ill': 15344,\n",
              " 'get': 12925,\n",
              " 'later': 17750,\n",
              " 'most': 20532,\n",
              " 'first': 11773,\n",
              " 'off': 21732,\n",
              " 'filled': 11664,\n",
              " 'lots': 18547,\n",
              " 'expecting': 11008,\n",
              " 'bit': 3388,\n",
              " 'department': 8291,\n",
              " 'no': 21335,\n",
              " 'surprise': 30433,\n",
              " 'own': 22308,\n",
              " 'look': 18477,\n",
              " 'feel': 11481,\n",
              " 'somehow': 28979,\n",
              " 'devoid': 8539,\n",
              " 'color': 6178,\n",
              " 'does': 9172,\n",
              " 'certain': 5209,\n",
              " 'scenes': 27140,\n",
              " 'masterful': 19333,\n",
              " 'kitchen': 17293,\n",
              " 'living': 18343,\n",
              " 'room': 26455,\n",
              " 'sequence': 27638,\n",
              " 'where': 34137,\n",
              " 'fills': 11669,\n",
              " 'screen': 27318,\n",
              " 'lush': 18727,\n",
              " 'greens': 13496,\n",
              " 'blues': 3623,\n",
              " 'black': 3421,\n",
              " 'tone': 31660,\n",
              " 'all': 1150,\n",
              " 'through': 31402,\n",
              " 'out': 22093,\n",
              " 'liked': 18183,\n",
              " 'distinctive': 9030,\n",
              " 'real': 25134,\n",
              " 'stars': 29596,\n",
              " 'show': 28099,\n",
              " 'are': 1831,\n",
              " 'incredibly': 15676,\n",
              " 'well': 34073,\n",
              " 'orchestrated': 21977,\n",
              " 'death': 7927,\n",
              " 'sequences': 27639,\n",
              " 'every': 10818,\n",
              " 'scene': 27137,\n",
              " 'work': 34532,\n",
              " 'art': 1939,\n",
              " 'beauty': 2916,\n",
              " 'destruction': 8441,\n",
              " 'these': 31290,\n",
              " 'typical': 32380,\n",
              " 'hack': 13830,\n",
              " 'slash': 28523,\n",
              " 'deaths': 7931,\n",
              " 'were': 34094,\n",
              " 'carefully': 4854,\n",
              " 'constructed': 6725,\n",
              " 'shock': 28019,\n",
              " 'situations': 28402,\n",
              " 'loved': 18584,\n",
              " 'second': 27439,\n",
              " 'them': 31254,\n",
              " 'plenty': 23484,\n",
              " 'blood': 3578,\n",
              " 'mayhem': 19450,\n",
              " 'gonna': 13224,\n",
              " 'spoil': 29321,\n",
              " 'em': 10173,\n",
              " 'though': 31356,\n",
              " 'then': 31262,\n",
              " 'direction': 8750,\n",
              " 'some': 28976,\n",
              " 'really': 25152,\n",
              " 'original': 22025,\n",
              " 'beautiful': 2914,\n",
              " 'shots': 28080,\n",
              " 'inventive': 16300,\n",
              " 'use': 33102,\n",
              " 'camera': 4678,\n",
              " 'thought': 31357,\n",
              " 'tarantinos': 30879,\n",
              " 'shot': 28077,\n",
              " 'kill': 17227,\n",
              " 'bill': 3314,\n",
              " 'vol': 33636,\n",
              " 'bullet': 4381,\n",
              " 'coming': 6250,\n",
              " 'chamber': 5253,\n",
              " 'gun': 13741,\n",
              " 'he': 14256,\n",
              " 'lifted': 18160,\n",
              " 'from': 12440,\n",
              " 'honestly': 14848,\n",
              " 'believe': 3055,\n",
              " 'tarantino': 30878,\n",
              " 'heavily': 14342,\n",
              " 'influenced': 15844,\n",
              " 'specific': 29190,\n",
              " 'heck': 14351,\n",
              " 'making': 18949,\n",
              " 'feature': 11455,\n",
              " 'mentions': 19738,\n",
              " 'whole': 34204,\n",
              " 'hospital': 14956,\n",
              " 'elle': 10131,\n",
              " 'driver': 9547,\n",
              " 'italian': 16455,\n",
              " 'giallos': 12955,\n",
              " 'proof': 24332,\n",
              " 'references': 25388,\n",
              " 'aside': 2002,\n",
              " 'amazing': 1293,\n",
              " 'those': 31354,\n",
              " 'crows': 7414,\n",
              " 'flying': 12020,\n",
              " 'crowd': 7405,\n",
              " 'house': 14996,\n",
              " 'great': 13470,\n",
              " 'stuff': 30044,\n",
              " 'reason': 25173,\n",
              " 'why': 34228,\n",
              " 'becoming': 2935,\n",
              " 'favorites': 11421,\n",
              " 'acting': 624,\n",
              " 'alright': 1226,\n",
              " 'far': 11317,\n",
              " 'marsillach': 19256,\n",
              " 'tortured': 31737,\n",
              " 'looks': 18486,\n",
              " 'eyes': 11159,\n",
              " 'being': 3029,\n",
              " 'committed': 6296,\n",
              " 'rest': 25892,\n",
              " 'little': 18322,\n",
              " 'wooden': 34500,\n",
              " 'stiff': 29750,\n",
              " 'nothing': 21456,\n",
              " 'deter': 8464,\n",
              " 'enjoyment': 10429,\n",
              " 'very': 33379,\n",
              " 'few': 11599,\n",
              " 'didn': 8631,\n",
              " 'logic': 18427,\n",
              " 'thrown': 31410,\n",
              " 'window': 34330,\n",
              " 'specially': 29186,\n",
              " 'involving': 16343,\n",
              " 'reactions': 25118,\n",
              " 'shes': 27962,\n",
              " 'seem': 27489,\n",
              " 'longest': 18465,\n",
              " 'time': 31506,\n",
              " 'went': 34091,\n",
              " 'business': 4495,\n",
              " 'telling': 31056,\n",
              " 'anyone': 1656,\n",
              " 'thing': 31312,\n",
              " 'even': 10802,\n",
              " 'police': 23616,\n",
              " 'mean': 19564,\n",
              " 'someone': 28980,\n",
              " 'brutally': 4282,\n",
              " 'murder': 20728,\n",
              " 'front': 12441,\n",
              " 'don': 9247,\n",
              " 'walk': 33752,\n",
              " 'life': 18144,\n",
              " 'connected': 6622,\n",
              " 'might': 19904,\n",
              " 'become': 2933,\n",
              " 'suspect': 30472,\n",
              " 'also': 1227,\n",
              " 'ending': 10356,\n",
              " 'anti': 1606,\n",
              " 'climactic': 5907,\n",
              " 'll': 18353,\n",
              " 'understand': 32622,\n",
              " 'seemed': 27491,\n",
              " 'unnecessary': 32853,\n",
              " 'way': 33959,\n",
              " 'ended': 10352,\n",
              " 'felt': 11512,\n",
              " 'could': 7076,\n",
              " 'earlier': 9819,\n",
              " 'redundant': 25359,\n",
              " 'thats': 31237,\n",
              " 'problems': 24190,\n",
              " 'since': 28336,\n",
              " 'enjoying': 10428,\n",
              " 've': 33273,\n",
              " 'still': 29760,\n",
              " 'got': 13300,\n",
              " 'lot': 18544,\n",
              " 'territory': 31163,\n",
              " 'cover': 7143,\n",
              " 'devouring': 8553,\n",
              " 'step': 29695,\n",
              " 'eating': 9864,\n",
              " 'plate': 23422,\n",
              " 'expensive': 11017,\n",
              " 'guys': 13793,\n",
              " 'films': 11686,\n",
              " 'works': 34544,\n",
              " 'two': 32356,\n",
              " 'cant': 4755,\n",
              " 'wait': 33734,\n",
              " 'discover': 8842,\n",
              " 'rating': 25051,\n",
              " '41': 282,\n",
              " 'people': 22900,\n",
              " 'wrote': 34643,\n",
              " 'another': 1577,\n",
              " 'tom': 31635,\n",
              " 'cruise': 7432,\n",
              " 'weird': 34053,\n",
              " 'movies': 20611,\n",
              " 'magnolia': 18892,\n",
              " 'wide': 34239,\n",
              " 'shut': 28166,\n",
              " 'vanilla': 33224,\n",
              " 'sky': 28496,\n",
              " 'definitely': 8101,\n",
              " 'many': 19130,\n",
              " 'said': 26799,\n",
              " 'different': 8652,\n",
              " 'confusing': 6596,\n",
              " 'stanley': 29564,\n",
              " 'kubrick': 17481,\n",
              " 'pauly': 22736,\n",
              " 'shore': 28058,\n",
              " 'truman': 32191,\n",
              " 'matrix': 19396,\n",
              " 'game': 12664,\n",
              " 'unlike': 32828,\n",
              " 'conclusion': 6498,\n",
              " 'everything': 10824,\n",
              " 'sense': 27590,\n",
              " 'maybe': 19445,\n",
              " 'immediately': 15421,\n",
              " 'today': 31603,\n",
              " 'make': 18940,\n",
              " 'because': 2924,\n",
              " 'david': 7856,\n",
              " 'aames': 384,\n",
              " 'confused': 6594,\n",
              " 'point': 23571,\n",
              " 'called': 4643,\n",
              " 'weirdness': 34057,\n",
              " 'turned': 32290,\n",
              " 'critics': 7357,\n",
              " 'came': 4672,\n",
              " 'they': 31297,\n",
              " 'bothered': 3892,\n",
              " 'open': 21896,\n",
              " 'their': 31251,\n",
              " '1997': 196,\n",
              " 'spanish': 29131,\n",
              " 'enough': 10453,\n",
              " 'music': 20759,\n",
              " 'cameron': 4684,\n",
              " 'crowe': 7408,\n",
              " 'offers': 21753,\n",
              " 'wonderful': 34483,\n",
              " 'soundtrack': 29083,\n",
              " 'uses': 33111,\n",
              " 'set': 27701,\n",
              " 'notorious': 21471,\n",
              " 'element': 10079,\n",
              " 'lack': 17554,\n",
              " 'songs': 29003,\n",
              " 'beach': 2862,\n",
              " 'boys': 3970,\n",
              " 'vibrations': 33405,\n",
              " 'playing': 23449,\n",
              " 'at': 2125,\n",
              " 'dramatic': 9445,\n",
              " 'emotional': 10255,\n",
              " 'climax': 5910,\n",
              " 'creates': 7259,\n",
              " 'an': 1402,\n",
              " 'offbeat': 21734,\n",
              " 'yet': 34779,\n",
              " 'astoundingly': 2108,\n",
              " 'right': 26189,\n",
              " 'script': 27342,\n",
              " 'images': 15379,\n",
              " 'sadly': 26772,\n",
              " 'superficial': 30334,\n",
              " 'bandwagon': 2623,\n",
              " 'order': 21986,\n",
              " 'appear': 1714,\n",
              " 'excellent': 10894,\n",
              " 'dogs': 9188,\n",
              " 'cat': 5025,\n",
              " 'looking': 18484,\n",
              " 'back': 2468,\n",
              " 'home': 14810,\n",
              " 'old': 21804,\n",
              " 'wise': 34385,\n",
              " 'golden': 13199,\n",
              " 'retriever': 25978,\n",
              " 'shadow': 27778,\n",
              " 'american': 1329,\n",
              " 'bulldog': 4378,\n",
              " 'chance': 5267,\n",
              " 'himalayan': 14633,\n",
              " 'sassy': 26979,\n",
              " 'flee': 11889,\n",
              " 'ranch': 24965,\n",
              " 'into': 16235,\n",
              " 'wilderness': 34272,\n",
              " 'reunited': 25993,\n",
              " 'family': 11278,\n",
              " 'homeward': 14828,\n",
              " 'bound': 3917,\n",
              " 'incredible': 15674,\n",
              " 'journey': 16861,\n",
              " '1993': 192,\n",
              " 'adventure': 804,\n",
              " 'directed': 8747,\n",
              " 'remake': 25600,\n",
              " '1963': 159,\n",
              " 'sequel': 27636,\n",
              " 'three': 31378,\n",
              " 'years': 34756,\n",
              " 'michael': 19858,\n",
              " 'fox': 12242,\n",
              " 'perfect': 22935,\n",
              " 'voice': 33626,\n",
              " 'over': 22173,\n",
              " 'youthful': 34834,\n",
              " 'energy': 10376,\n",
              " 'brings': 4169,\n",
              " 'role': 26394,\n",
              " 'sally': 26840,\n",
              " 'field': 11627,\n",
              " 'ameche': 1318,\n",
              " 'fantastic': 11312,\n",
              " 'veteran': 33388,\n",
              " 'actor': 637,\n",
              " 'last': 17737,\n",
              " 'visible': 33570,\n",
              " 'actors': 638,\n",
              " 'kim': 17244,\n",
              " 'greist': 13511,\n",
              " 'plays': 23453,\n",
              " 'laura': 17791,\n",
              " 'burnford': 4466,\n",
              " 'seaver': 27429,\n",
              " 'robert': 26324,\n",
              " 'hays': 14233,\n",
              " 'bob': 3668,\n",
              " 'benji': 3132,\n",
              " 'peter': 23065,\n",
              " 'veronica': 33362,\n",
              " 'lauren': 17795,\n",
              " 'hope': 14896,\n",
              " 'kevin': 17169,\n",
              " 'jamie': 16551,\n",
              " 'jean': 16626,\n",
              " 'smart': 28691,\n",
              " 'portrays': 23755,\n",
              " 'kate': 17059,\n",
              " 'quite': 24777,\n",
              " 'pets': 23080,\n",
              " 'trying': 32216,\n",
              " 'survive': 30457,\n",
              " 'taken': 30777,\n",
              " 'river': 26272,\n",
              " 'seems': 27495,\n",
              " 'bear': 2882,\n",
              " 'exiting': 10987,\n",
              " 'funny': 12540,\n",
              " 'hungry': 15142,\n",
              " 'meeting': 19642,\n",
              " 'porcupine': 23720,\n",
              " 'painful': 22383,\n",
              " 'fun': 12514,\n",
              " 'steve': 29729,\n",
              " 'carell': 4860,\n",
              " 'comes': 6235,\n",
              " 'starring': 29594,\n",
              " '40': 278,\n",
              " 'year': 34750,\n",
              " 'virgin': 33542,\n",
              " 'having': 14211,\n",
              " 'supporting': 30384,\n",
              " 'roles': 26395,\n",
              " 'such': 30205,\n",
              " 'bewitched': 3242,\n",
              " 'bruce': 4262,\n",
              " 'almighty': 1205,\n",
              " 'anchorman': 1444,\n",
              " 'daily': 7686,\n",
              " 'gotten': 13310,\n",
              " 'small': 28682,\n",
              " 'taste': 30907,\n",
              " 'comedy': 6231,\n",
              " 'truly': 32190,\n",
              " 'can': 4708,\n",
              " 'tell': 31053,\n",
              " 'ferrell': 11557,\n",
              " 'comedic': 6228,\n",
              " 'air': 1000,\n",
              " 'takes': 30781,\n",
              " 'innocent': 15944,\n",
              " 'lovable': 18577,\n",
              " 'hilarious': 14613,\n",
              " 'hesitate': 14534,\n",
              " 'say': 27058,\n",
              " 'comedians': 6227,\n",
              " 'hours': 14995,\n",
              " 'non': 21379,\n",
              " 'stop': 29839,\n",
              " 'laughs': 17777,\n",
              " 'twice': 32334,\n",
              " 'did': 8628,\n",
              " 'leads': 17857,\n",
              " 'charm': 5355,\n",
              " 'audience': 2240,\n",
              " 'entire': 10518,\n",
              " 'lines': 18252,\n",
              " 'again': 911,\n",
              " 'try': 32215,\n",
              " 'remember': 25617,\n",
              " 'fit': 11795,\n",
              " 'knew': 17339,\n",
              " 'doing': 9195,\n",
              " 'sex': 27740,\n",
              " 'jokes': 16805,\n",
              " 'nudity': 21518,\n",
              " 'language': 17670,\n",
              " 'isn': 16440,\n",
              " 'everyone': 10822,\n",
              " 'wedding': 34016,\n",
              " 'crashers': 7223,\n",
              " 'any': 1650,\n",
              " 'along': 1213,\n",
              " 'absolutely': 467,\n",
              " 'going': 13189,\n",
              " 'more': 20455,\n",
              " 'required': 25788,\n",
              " 'however': 15018,\n",
              " 'summary': 30283,\n",
              " 'put': 24664,\n",
              " 'top': 31693,\n",
              " 'wordy': 34530,\n",
              " 'pretty': 24087,\n",
              " 'much': 20642,\n",
              " 'know': 17366,\n",
              " 'beginning': 2999,\n",
              " 'spite': 29290,\n",
              " 'attempts': 2191,\n",
              " 'plot': 23498,\n",
              " 'twists': 32349,\n",
              " 'turns': 32293,\n",
              " 'talent': 30789,\n",
              " 'hard': 14059,\n",
              " 'dismay': 8923,\n",
              " 'twist': 32344,\n",
              " 'happens': 14037,\n",
              " 'never': 21181,\n",
              " 'need': 21075,\n",
              " 'wonder': 34480,\n",
              " 'whodunit': 34201,\n",
              " 'mystery': 20827,\n",
              " 'comment': 6270,\n",
              " 'saying': 27061,\n",
              " 'lowest': 18613,\n",
              " 'ever': 10811,\n",
              " 'rated': 25046,\n",
              " 'saving': 27040,\n",
              " 'votes': 33667,\n",
              " 'deserved': 8386,\n",
              " 'johanna': 16780,\n",
              " 'watts': 33941,\n",
              " 'watson': 33940,\n",
              " 'job': 16758,\n",
              " 'crying': 7463,\n",
              " 'distraught': 9051,\n",
              " 'conveyed': 6878,\n",
              " 'emotion': 10254,\n",
              " 'played': 23441,\n",
              " 'character': 5311,\n",
              " 'drummer': 9590,\n",
              " 'short': 28060,\n",
              " 'ok': 21794,\n",
              " 'lead': 17850,\n",
              " 'forget': 12153,\n",
              " 'name': 20885,\n",
              " 'terrible': 31152,\n",
              " 'names': 20889,\n",
              " 'must': 20775,\n",
              " 'displays': 8966,\n",
              " 'restless': 25900,\n",
              " 'days': 7882,\n",
              " 'lives': 18338,\n",
              " 'picture': 23226,\n",
              " 'him': 14632,\n",
              " 'white': 34189,\n",
              " 'lab': 17524,\n",
              " 'coat': 6026,\n",
              " 'doctor': 9143,\n",
              " 'multiple': 20683,\n",
              " 'personalities': 23015,\n",
              " 'general': 12830,\n",
              " 'doesn': 9174,\n",
              " 'help': 14426,\n",
              " 'daytime': 7883,\n",
              " 'soap': 28857,\n",
              " 'although': 1250,\n",
              " 'sure': 30404,\n",
              " 'shoot': 28042,\n",
              " 'same': 26865,\n",
              " 'camcorder': 4669,\n",
              " 'without': 34422,\n",
              " 'obvious': 21669,\n",
              " 'ish': 16421,\n",
              " 'sound': 29078,\n",
              " 'editing': 9931,\n",
              " 'money': 20336,\n",
              " 'rent': 25682,\n",
              " 'wasted': 33898,\n",
              " 'wouldn': 34577,\n",
              " 'unless': 32826,\n",
              " 'paid': 22378,\n",
              " 'large': 17702,\n",
              " 'sum': 30274,\n",
              " 'risky': 26252,\n",
              " 'move': 20601,\n",
              " 'lose': 18535,\n",
              " 'wrong': 34637,\n",
              " 'worst': 34569,\n",
              " 'crappy': 7218,\n",
              " 'technical': 30988,\n",
              " 'output': 22137,\n",
              " 'give': 13044,\n",
              " 'vote': 33664,\n",
              " 'course': 7123,\n",
              " 'cats': 5078,\n",
              " 'positive': 23771,\n",
              " 'superior': 30346,\n",
              " 'buy': 4534,\n",
              " 'stay': 29645,\n",
              " 'horrible': 14934,\n",
              " 'vanish': 33225,\n",
              " 'obscure': 21637,\n",
              " 'existence': 10976,\n",
              " 'cult': 7510,\n",
              " 'classic': 5821,\n",
              " 'deserve': 8385,\n",
              " 'recognition': 25256,\n",
              " 'cannibalism': 4743,\n",
              " 'pair': 22397,\n",
              " 'cinematic': 5727,\n",
              " 'delicatessen': 8157,\n",
              " 'historic': 14689,\n",
              " 'case': 4975,\n",
              " 'rugby': 26622,\n",
              " 'players': 23443,\n",
              " 'survived': 30458,\n",
              " 'andes': 1458,\n",
              " 'dead': 7901,\n",
              " 'members': 19698,\n",
              " 'flight': 11922,\n",
              " 'chile': 5535,\n",
              " 'excuse': 10933,\n",
              " 'delve': 8197,\n",
              " 'extremes': 11134,\n",
              " 'men': 19713,\n",
              " 'willing': 34302,\n",
              " 'defeat': 8063,\n",
              " 'isolation': 16445,\n",
              " 'obtain': 21663,\n",
              " 'social': 28876,\n",
              " 'acceptance': 516,\n",
              " 'extremely': 11133,\n",
              " 'creative': 7264,\n",
              " 'hopefully': 14899,\n",
              " 'leave': 17894,\n",
              " 'viewer': 33459,\n",
              " 'laughing': 17773,\n",
              " 'wondering': 34485,\n",
              " 'kung': 17492,\n",
              " 'fu': 12478,\n",
              " 'reviews': 26038,\n",
              " 'miss': 20145,\n",
              " 'based': 2749,\n",
              " 'subtle': 30165,\n",
              " 'times': 31515,\n",
              " 'face': 11182,\n",
              " 'contrast': 6826,\n",
              " 'between': 3231,\n",
              " 'new': 21188,\n",
              " 'kara': 17032,\n",
              " 'hui': 15070,\n",
              " 'instance': 16037,\n",
              " 'country': 7108,\n",
              " 'bumpkin': 4408,\n",
              " 'trouble': 32161,\n",
              " 'whenever': 34136,\n",
              " 'tries': 32080,\n",
              " 'adapt': 657,\n",
              " 'end': 10340,\n",
              " 'save': 27036,\n",
              " 'families': 11277,\n",
              " 'honour': 14864,\n",
              " 'dresses': 9507,\n",
              " 'fashioned': 11367,\n",
              " 'heroine': 14514,\n",
              " 'military': 19944,\n",
              " 'hsiao': 15033,\n",
              " 'ho': 14724,\n",
              " 'gordon': 13269,\n",
              " 'liu': 18325,\n",
              " 'serious': 27668,\n",
              " 'monk': 20356,\n",
              " 'persona': 23009,\n",
              " 'silly': 28284,\n",
              " 'wigs': 34262,\n",
              " 'guitar': 13724,\n",
              " 'fight': 11643,\n",
              " 'ends': 10366,\n",
              " 'johnny': 16787,\n",
              " 'wang': 33806,\n",
              " 'rather': 25050,\n",
              " 'than': 31222,\n",
              " 'kwan': 17509,\n",
              " 'yung': 34858,\n",
              " 'moon': 20420,\n",
              " 'should': 28081,\n",
              " 'mentioned': 19736,\n",
              " 'thug': 31418,\n",
              " 'invincible': 16326,\n",
              " 'armour': 1893,\n",
              " 'terrific': 31155,\n",
              " 'fighting': 11646,\n",
              " 'martin': 19266,\n",
              " 'lift': 18159,\n",
              " 'something': 28988,\n",
              " 'strange': 29890,\n",
              " 'usually': 33122,\n",
              " 'anything': 1658,\n",
              " 'trashy': 31968,\n",
              " 'charlene': 5343,\n",
              " 'encouraging': 10336,\n",
              " 'rough': 26530,\n",
              " 'wife': 34256,\n",
              " 'message': 19799,\n",
              " 'sending': 27574,\n",
              " 'teens': 31019,\n",
              " 'watching': 33917,\n",
              " 'jordan': 16830,\n",
              " 'television': 31051,\n",
              " 'likes': 18189,\n",
              " 'orderly': 21989,\n",
              " 'properly': 24346,\n",
              " 'executed': 10941,\n",
              " 'world': 34546,\n",
              " 'children': 5531,\n",
              " 'mr': 20630,\n",
              " 'master': 19330,\n",
              " 'rambunctious': 24939,\n",
              " 'band': 2614,\n",
              " 'boy': 3959,\n",
              " 'scouts': 27282,\n",
              " 'ratings': 25052,\n",
              " 'staff': 29486,\n",
              " 'figures': 11654,\n",
              " 'learns': 17884,\n",
              " 'how': 15013,\n",
              " 'interact': 16127,\n",
              " 'youth': 34833,\n",
              " 'inclined': 15625,\n",
              " 'cope': 6929,\n",
              " 'comprises': 6436,\n",
              " 'belvedere': 3097,\n",
              " 'goes': 13181,\n",
              " 'college': 6151,\n",
              " 'interested': 16143,\n",
              " 'obtaining': 21665,\n",
              " 'copy': 6946,\n",
              " 'yahoo': 34704,\n",
              " 'probably': 24182,\n",
              " 'long': 18462,\n",
              " 'keeps': 17114,\n",
              " 'nonstop': 21390,\n",
              " 'cameos': 4677,\n",
              " 'ben': 3106,\n",
              " 'stiller': 29762,\n",
              " 'store': 29846,\n",
              " 'guy': 13791,\n",
              " 'hoped': 14897,\n",
              " 'up': 33018,\n",
              " 'cause': 5093,\n",
              " 'hour': 14992,\n",
              " 'minutes': 20059,\n",
              " 'wanted': 33815,\n",
              " 'credits': 7280,\n",
              " 'actually': 644,\n",
              " 'parts': 22624,\n",
              " 'suggest': 30238,\n",
              " 'loves': 18596,\n",
              " 'fans': 11306,\n",
              " 'jack': 16498,\n",
              " 'album': 1082,\n",
              " 'damn': 7721,\n",
              " 'catchy': 5048,\n",
              " 'notch': 21447,\n",
              " 'target': 30883,\n",
              " 'altman': 1253,\n",
              " 'haven': 14203,\n",
              " 'release': 25553,\n",
              " 'seldom': 27527,\n",
              " 'spent': 29238,\n",
              " 'theater': 31241,\n",
              " 'feeling': 11483,\n",
              " 'miserable': 20110,\n",
              " 'disappointed': 8787,\n",
              " 'pretentious': 24080,\n",
              " 'community': 6320,\n",
              " 'attempted': 2189,\n",
              " 'sci': 27227,\n",
              " 'fi': 11608,\n",
              " 'version': 33372,\n",
              " 'ingmar': 15882,\n",
              " 'bergman': 3160,\n",
              " 'come': 6223,\n",
              " 'bring': 4167,\n",
              " 'myself': 20821,\n",
              " 'made': 18834,\n",
              " 'nadir': 20857,\n",
              " 'career': 4850,\n",
              " 'remarkable': 25605,\n",
              " 'highs': 14597,\n",
              " 'lows': 18618,\n",
              " 'walked': 33754,\n",
              " 'critic': 7346,\n",
              " 'couldn': 7078,\n",
              " 'envy': 10556,\n",
              " 'depressing': 8325,\n",
              " 'caught': 5090,\n",
              " 'peripheral': 22958,\n",
              " 'elements': 10081,\n",
              " 'true': 32185,\n",
              " 'meaning': 19573,\n",
              " 'speaks': 29174,\n",
              " 'minority': 20046,\n",
              " 'truth': 32210,\n",
              " 'points': 23581,\n",
              " 'todays': 31604,\n",
              " 'society': 28886,\n",
              " 'often': 21770,\n",
              " 'sounds': 29081,\n",
              " 'moment': 20309,\n",
              " 'intention': 16119,\n",
              " 'backing': 2480,\n",
              " 'else': 10157,\n",
              " 'stated': 29619,\n",
              " 'evident': 10834,\n",
              " 'number': 21532,\n",
              " 'divorces': 9109,\n",
              " 'marriage': 19242,\n",
              " 'forever': 12147,\n",
              " 'stereotypes': 29717,\n",
              " 'focus': 12025,\n",
              " 'important': 15510,\n",
              " 'following': 12059,\n",
              " 'heart': 14304,\n",
              " 'easy': 9857,\n",
              " 'sappy': 26948,\n",
              " 'instead': 16042,\n",
              " 'reality': 25145,\n",
              " 'sometimes': 28992,\n",
              " 'magic': 18873,\n",
              " 'late': 17747,\n",
              " 'shows': 28119,\n",
              " 'stressful': 29950,\n",
              " 'day': 7876,\n",
              " 'school': 27196,\n",
              " 'sit': 28388,\n",
              " 'down': 9380,\n",
              " 'tv': 32312,\n",
              " 'genuinely': 12881,\n",
              " 'enjoy': 10423,\n",
              " 'shame': 27817,\n",
              " 'anymore': 1655,\n",
              " 'dick': 8609,\n",
              " 'van': 33216,\n",
              " 'dyke': 9787,\n",
              " 'dr': 9417,\n",
              " 'mark': 19207,\n",
              " 'sloan': 28620,\n",
              " 'detective': 8459,\n",
              " 'son': 28998,\n",
              " 'solves': 28972,\n",
              " 'joined': 16795,\n",
              " 'largely': 17703,\n",
              " 'unknown': 32820,\n",
              " 'competent': 6358,\n",
              " 'namely': 20888,\n",
              " 'barry': 2732,\n",
              " 'victoria': 33428,\n",
              " 'noticed': 21462,\n",
              " 'series': 27666,\n",
              " 'hairstyle': 13886,\n",
              " 'changes': 5283,\n",
              " 'scott': 27272,\n",
              " 'baio': 2540,\n",
              " 'charlie': 5349,\n",
              " 'schlatter': 27173,\n",
              " 'particularly': 22612,\n",
              " 'tucci': 32236,\n",
              " 'norman': 21414,\n",
              " 'puzzled': 24674,\n",
              " 'suddenly': 30217,\n",
              " 'disappeared': 8783,\n",
              " 'entertaining': 10500,\n",
              " ...}"
            ]
          },
          "metadata": {
            "tags": []
          },
          "execution_count": 16
        }
      ]
    },
    {
      "cell_type": "code",
      "metadata": {
        "id": "jjJP5Zeh5_6F",
        "colab_type": "code",
        "colab": {}
      },
      "source": [
        ""
      ],
      "execution_count": 0,
      "outputs": []
    },
    {
      "cell_type": "code",
      "metadata": {
        "id": "YHFuhxHw24xW",
        "colab_type": "code",
        "colab": {}
      },
      "source": [
        "train_y=df1['label'].values"
      ],
      "execution_count": 0,
      "outputs": []
    },
    {
      "cell_type": "code",
      "metadata": {
        "id": "CTVprXL23Uxm",
        "colab_type": "code",
        "outputId": "cbce8cf8-21c4-4151-e46a-621153e24487",
        "colab": {
          "base_uri": "https://localhost:8080/",
          "height": 34
        }
      },
      "source": [
        "train_y.shape"
      ],
      "execution_count": 18,
      "outputs": [
        {
          "output_type": "execute_result",
          "data": {
            "text/plain": [
              "(40000,)"
            ]
          },
          "metadata": {
            "tags": []
          },
          "execution_count": 18
        }
      ]
    },
    {
      "cell_type": "code",
      "metadata": {
        "id": "hEwksnFp4sdL",
        "colab_type": "code",
        "colab": {}
      },
      "source": [
        "train_y=train_y.reshape((-1,1))"
      ],
      "execution_count": 0,
      "outputs": []
    },
    {
      "cell_type": "code",
      "metadata": {
        "id": "UjJkZuKw42we",
        "colab_type": "code",
        "outputId": "364b046f-744d-4772-fcb5-6d0fa0552c1d",
        "colab": {
          "base_uri": "https://localhost:8080/",
          "height": 34
        }
      },
      "source": [
        "train_y.shape"
      ],
      "execution_count": 20,
      "outputs": [
        {
          "output_type": "execute_result",
          "data": {
            "text/plain": [
              "(40000, 1)"
            ]
          },
          "metadata": {
            "tags": []
          },
          "execution_count": 20
        }
      ]
    },
    {
      "cell_type": "code",
      "metadata": {
        "id": "VQ2foPZK46O5",
        "colab_type": "code",
        "outputId": "350ee859-ff3b-45e1-ddfe-6f6b73644a22",
        "colab": {
          "base_uri": "https://localhost:8080/",
          "height": 134
        }
      },
      "source": [
        "print(train_y)"
      ],
      "execution_count": 21,
      "outputs": [
        {
          "output_type": "stream",
          "text": [
            "[[1]\n",
            " [1]\n",
            " [1]\n",
            " ...\n",
            " [0]\n",
            " [1]\n",
            " [1]]\n"
          ],
          "name": "stdout"
        }
      ]
    },
    {
      "cell_type": "code",
      "metadata": {
        "id": "IYMhdEEA49iR",
        "colab_type": "code",
        "colab": {}
      },
      "source": [
        ""
      ],
      "execution_count": 0,
      "outputs": []
    },
    {
      "cell_type": "markdown",
      "metadata": {
        "id": "U0YfCd7i6QZQ",
        "colab_type": "text"
      },
      "source": [
        "# DEFINE MODEL ARCHITECTURE\n",
        "# USED DIFFERENET TYPE OF MODEL TO PREDICT SENTIMENTS"
      ]
    },
    {
      "cell_type": "markdown",
      "metadata": {
        "id": "1_0a5hHi7XQd",
        "colab_type": "text"
      },
      "source": [
        "# 1.NEURAL NETWORK\n",
        "- use fully connected or dense layer using relu as activation function\n",
        "-  hidden layers with 16 unit each\n",
        "-  output layer with 1 unit (sigmoid as activation function)"
      ]
    },
    {
      "cell_type": "code",
      "metadata": {
        "id": "ExX5Ncv16cwN",
        "colab_type": "code",
        "outputId": "67e8a633-3747-41a7-de5c-aaf1e7fd39d6",
        "colab": {
          "base_uri": "https://localhost:8080/",
          "height": 34
        }
      },
      "source": [
        "from keras import models\n",
        "from keras.layers import Dense"
      ],
      "execution_count": 22,
      "outputs": [
        {
          "output_type": "stream",
          "text": [
            "Using TensorFlow backend.\n"
          ],
          "name": "stderr"
        }
      ]
    },
    {
      "cell_type": "markdown",
      "metadata": {
        "id": "S7YBus_Y7xiN",
        "colab_type": "text"
      },
      "source": [
        "## DEFINE MODEL"
      ]
    },
    {
      "cell_type": "code",
      "metadata": {
        "id": "ntXj6mnz7nJF",
        "colab_type": "code",
        "colab": {}
      },
      "source": [
        "model=models.Sequential()\n",
        "model.add(Dense(16,activation='relu',input_shape=(35000,)))\n",
        "model.add(Dense(16,activation='relu'))\n",
        "model.add(Dense(1,activation='sigmoid'))"
      ],
      "execution_count": 0,
      "outputs": []
    },
    {
      "cell_type": "markdown",
      "metadata": {
        "id": "5QRhYNbf72ry",
        "colab_type": "text"
      },
      "source": [
        "## COMPILE MODEL"
      ]
    },
    {
      "cell_type": "code",
      "metadata": {
        "id": "hLlLiMZ47qdL",
        "colab_type": "code",
        "colab": {}
      },
      "source": [
        "model.compile(optimizer='rmsprop',loss='binary_crossentropy',metrics=['accuracy'])"
      ],
      "execution_count": 0,
      "outputs": []
    },
    {
      "cell_type": "code",
      "metadata": {
        "id": "yNSU8ErW864t",
        "colab_type": "code",
        "outputId": "97d8fc1d-c405-4af7-afcb-0483dc1c4722",
        "colab": {
          "base_uri": "https://localhost:8080/",
          "height": 252
        }
      },
      "source": [
        "model.summary()"
      ],
      "execution_count": 25,
      "outputs": [
        {
          "output_type": "stream",
          "text": [
            "Model: \"sequential_1\"\n",
            "_________________________________________________________________\n",
            "Layer (type)                 Output Shape              Param #   \n",
            "=================================================================\n",
            "dense_1 (Dense)              (None, 16)                560016    \n",
            "_________________________________________________________________\n",
            "dense_2 (Dense)              (None, 16)                272       \n",
            "_________________________________________________________________\n",
            "dense_3 (Dense)              (None, 1)                 17        \n",
            "=================================================================\n",
            "Total params: 560,305\n",
            "Trainable params: 560,305\n",
            "Non-trainable params: 0\n",
            "_________________________________________________________________\n"
          ],
          "name": "stdout"
        }
      ]
    },
    {
      "cell_type": "code",
      "metadata": {
        "id": "SSyCsFUP89bd",
        "colab_type": "code",
        "colab": {}
      },
      "source": [
        "x_val=train_x[:5000]\n",
        "x_train_new=train_x[5000:]\n",
        "y_val=train_y[:5000]\n",
        "y_train_new=train_y[5000:]"
      ],
      "execution_count": 0,
      "outputs": []
    },
    {
      "cell_type": "code",
      "metadata": {
        "id": "ZPuI4v0Z9mx4",
        "colab_type": "code",
        "outputId": "4ef93adf-919a-4ae4-c26a-063b3610a4fe",
        "colab": {
          "base_uri": "https://localhost:8080/",
          "height": 168
        }
      },
      "source": [
        "hist=model.fit(x_train_new,y_train_new,epochs=4,batch_size=512,validation_data=(x_val,y_val))"
      ],
      "execution_count": 27,
      "outputs": [
        {
          "output_type": "stream",
          "text": [
            "Train on 35000 samples, validate on 5000 samples\n",
            "Epoch 1/4\n",
            "35000/35000 [==============================] - 6s 158us/step - loss: 0.4380 - accuracy: 0.8199 - val_loss: 0.3732 - val_accuracy: 0.8606\n",
            "Epoch 2/4\n",
            "35000/35000 [==============================] - 5s 149us/step - loss: 0.2448 - accuracy: 0.9161 - val_loss: 0.2636 - val_accuracy: 0.9008\n",
            "Epoch 3/4\n",
            "35000/35000 [==============================] - 5s 148us/step - loss: 0.1782 - accuracy: 0.9386 - val_loss: 0.3869 - val_accuracy: 0.8668\n",
            "Epoch 4/4\n",
            "35000/35000 [==============================] - 5s 148us/step - loss: 0.1410 - accuracy: 0.9520 - val_loss: 0.2772 - val_accuracy: 0.9008\n"
          ],
          "name": "stdout"
        }
      ]
    },
    {
      "cell_type": "code",
      "metadata": {
        "id": "-QQ63QQC9sUU",
        "colab_type": "code",
        "colab": {}
      },
      "source": [
        "h=hist.history"
      ],
      "execution_count": 0,
      "outputs": []
    },
    {
      "cell_type": "code",
      "metadata": {
        "id": "cVDhAVeiGgSx",
        "colab_type": "code",
        "colab": {}
      },
      "source": [
        ""
      ],
      "execution_count": 0,
      "outputs": []
    },
    {
      "cell_type": "code",
      "metadata": {
        "id": "HH9RB4Ol9_ir",
        "colab_type": "code",
        "outputId": "7c081c8b-8e79-467a-c160-377adfdb9bc4",
        "colab": {
          "base_uri": "https://localhost:8080/",
          "height": 235
        }
      },
      "source": [
        "h"
      ],
      "execution_count": 29,
      "outputs": [
        {
          "output_type": "execute_result",
          "data": {
            "text/plain": [
              "{'accuracy': [0.81988573, 0.91605717, 0.93862855, 0.9520286],\n",
              " 'loss': [0.43795001331738065,\n",
              "  0.24482258322238923,\n",
              "  0.1782455594096865,\n",
              "  0.14101426272051676],\n",
              " 'val_accuracy': [0.8605999946594238,\n",
              "  0.9007999897003174,\n",
              "  0.8668000102043152,\n",
              "  0.9007999897003174],\n",
              " 'val_loss': [0.3731994332790375,\n",
              "  0.2635513277292252,\n",
              "  0.38690701298713687,\n",
              "  0.2771763807296753]}"
            ]
          },
          "metadata": {
            "tags": []
          },
          "execution_count": 29
        }
      ]
    },
    {
      "cell_type": "code",
      "metadata": {
        "id": "KB4NGCSp-AHi",
        "colab_type": "code",
        "outputId": "e6b08d34-4772-4f10-8e2b-6b93ad2ce447",
        "colab": {
          "base_uri": "https://localhost:8080/",
          "height": 513
        }
      },
      "source": [
        "plt.figure(figsize=[8,8])\n",
        "plt.plot(h['val_loss'],label='validation loss')\n",
        "plt.plot(h['loss'],label='training loss')\n",
        "plt.xlabel('epochs')\n",
        "plt.ylabel('loss')\n",
        "plt.title('loss vs epoch by neural network')\n",
        "plt.legend()\n",
        "plt.show()"
      ],
      "execution_count": 30,
      "outputs": [
        {
          "output_type": "display_data",
          "data": {
            "image/png": "[encoded data removed]",
            "text/plain": [
              "<Figure size 576x576 with 1 Axes>"
            ]
          },
          "metadata": {
            "tags": [],
            "needs_background": "light"
          }
        }
      ]
    },
    {
      "cell_type": "code",
      "metadata": {
        "id": "QGLf77VVBCxn",
        "colab_type": "code",
        "outputId": "952801c9-d11c-4c50-aa6e-1f2896a7c60b",
        "colab": {
          "base_uri": "https://localhost:8080/",
          "height": 513
        }
      },
      "source": [
        "plt.figure(figsize=[8,8])\n",
        "plt.plot(h['val_accuracy'],label='validation accuracy')\n",
        "plt.plot(h['accuracy'],label='training accuracy')\n",
        "plt.xlabel('epochs')\n",
        "plt.ylabel('loss')\n",
        "plt.title('accuracy vs epoch by neural network')\n",
        "plt.legend()\n",
        "plt.show()"
      ],
      "execution_count": 31,
      "outputs": [
        {
          "output_type": "display_data",
          "data": {
            "image/png": "[encoded data removed]",
            "text/plain": [
              "<Figure size 576x576 with 1 Axes>"
            ]
          },
          "metadata": {
            "tags": [],
            "needs_background": "light"
          }
        }
      ]
    },
    {
      "cell_type": "code",
      "metadata": {
        "id": "DgvhG97zBDEv",
        "colab_type": "code",
        "colab": {}
      },
      "source": [
        ""
      ],
      "execution_count": 0,
      "outputs": []
    },
    {
      "cell_type": "markdown",
      "metadata": {
        "id": "ID2DtS27R25L",
        "colab_type": "text"
      },
      "source": [
        "# PREDICTION ON GIVEN TEXT DATA"
      ]
    },
    {
      "cell_type": "code",
      "metadata": {
        "id": "SMtOUsxpBCvJ",
        "colab_type": "code",
        "colab": {}
      },
      "source": [
        ""
      ],
      "execution_count": 0,
      "outputs": []
    },
    {
      "cell_type": "code",
      "metadata": {
        "id": "eORdAfiF-IS-",
        "colab_type": "code",
        "colab": {}
      },
      "source": [
        "y_test=model.predict(test_x) "
      ],
      "execution_count": 0,
      "outputs": []
    },
    {
      "cell_type": "code",
      "metadata": {
        "id": "wHnNTTcHC_mJ",
        "colab_type": "code",
        "outputId": "ce085900-efc1-4372-eefc-04b88a1ee128",
        "colab": {
          "base_uri": "https://localhost:8080/",
          "height": 34
        }
      },
      "source": [
        "y_test.shape"
      ],
      "execution_count": 33,
      "outputs": [
        {
          "output_type": "execute_result",
          "data": {
            "text/plain": [
              "(10000, 1)"
            ]
          },
          "metadata": {
            "tags": []
          },
          "execution_count": 33
        }
      ]
    },
    {
      "cell_type": "code",
      "metadata": {
        "id": "nEGzkrqgDCLc",
        "colab_type": "code",
        "outputId": "d0b9efa2-56f6-4c0d-c160-7720ec46c2ff",
        "colab": {
          "base_uri": "https://localhost:8080/",
          "height": 34
        }
      },
      "source": [
        "y_test.dtype"
      ],
      "execution_count": 34,
      "outputs": [
        {
          "output_type": "execute_result",
          "data": {
            "text/plain": [
              "dtype('float32')"
            ]
          },
          "metadata": {
            "tags": []
          },
          "execution_count": 34
        }
      ]
    },
    {
      "cell_type": "code",
      "metadata": {
        "id": "_JnX0P0ZM9Xe",
        "colab_type": "code",
        "colab": {}
      },
      "source": [
        "x=np.sum(y_test>0.5)"
      ],
      "execution_count": 0,
      "outputs": []
    },
    {
      "cell_type": "code",
      "metadata": {
        "id": "m5tGG22eBa7F",
        "colab_type": "code",
        "outputId": "12a1bcea-4af9-4cb7-8ee0-25fb9af13733",
        "colab": {
          "base_uri": "https://localhost:8080/",
          "height": 34
        }
      },
      "source": [
        "x"
      ],
      "execution_count": 36,
      "outputs": [
        {
          "output_type": "execute_result",
          "data": {
            "text/plain": [
              "5191"
            ]
          },
          "metadata": {
            "tags": []
          },
          "execution_count": 36
        }
      ]
    },
    {
      "cell_type": "code",
      "metadata": {
        "id": "DAOW6AlRHjJ7",
        "colab_type": "code",
        "outputId": "fc4b2822-f749-4585-8620-b9b1afda803c",
        "colab": {
          "base_uri": "https://localhost:8080/",
          "height": 34
        }
      },
      "source": [
        "type(y_test)"
      ],
      "execution_count": 37,
      "outputs": [
        {
          "output_type": "execute_result",
          "data": {
            "text/plain": [
              "numpy.ndarray"
            ]
          },
          "metadata": {
            "tags": []
          },
          "execution_count": 37
        }
      ]
    },
    {
      "cell_type": "code",
      "metadata": {
        "id": "_ggp1eVPHx6j",
        "colab_type": "code",
        "colab": {}
      },
      "source": [
        "y_test=y_test.astype('str')"
      ],
      "execution_count": 0,
      "outputs": []
    },
    {
      "cell_type": "code",
      "metadata": {
        "id": "00WamMSXKfMX",
        "colab_type": "code",
        "outputId": "d37a5d70-0f85-4fb9-bfff-f20591ff8447",
        "colab": {
          "base_uri": "https://localhost:8080/",
          "height": 134
        }
      },
      "source": [
        "y_test"
      ],
      "execution_count": 39,
      "outputs": [
        {
          "output_type": "execute_result",
          "data": {
            "text/plain": [
              "array([['0.100676715'],\n",
              "       ['0.13581464'],\n",
              "       ['0.0004733503'],\n",
              "       ...,\n",
              "       ['0.9998932'],\n",
              "       ['0.9852679'],\n",
              "       ['0.04981491']], dtype='<U32')"
            ]
          },
          "metadata": {
            "tags": []
          },
          "execution_count": 39
        }
      ]
    },
    {
      "cell_type": "markdown",
      "metadata": {
        "id": "99tT-Q1NSU8x",
        "colab_type": "text"
      },
      "source": [
        "# assigning pos for positive sentiment and neg for negetive sentiment"
      ]
    },
    {
      "cell_type": "code",
      "metadata": {
        "id": "9M_LSqEjKfK1",
        "colab_type": "code",
        "colab": {}
      },
      "source": [
        "\n",
        "for i in range(y_test.shape[0]):\n",
        "  if(y_test[i][0]>('0.5')):\n",
        "    y_test[i][0]='pos'\n",
        "  else:\n",
        "    y_test[i][0]='neg'"
      ],
      "execution_count": 0,
      "outputs": []
    },
    {
      "cell_type": "code",
      "metadata": {
        "id": "P8UlAUfvIDga",
        "colab_type": "code",
        "outputId": "329f1bb6-7395-45ff-ffa9-d46005f179e1",
        "colab": {
          "base_uri": "https://localhost:8080/",
          "height": 34
        }
      },
      "source": [
        "y_test.shape"
      ],
      "execution_count": 41,
      "outputs": [
        {
          "output_type": "execute_result",
          "data": {
            "text/plain": [
              "(10000, 1)"
            ]
          },
          "metadata": {
            "tags": []
          },
          "execution_count": 41
        }
      ]
    },
    {
      "cell_type": "markdown",
      "metadata": {
        "id": "bFIRglGCSZi6",
        "colab_type": "text"
      },
      "source": [
        "# convert output data in dataframe type data"
      ]
    },
    {
      "cell_type": "code",
      "metadata": {
        "id": "bxIZPphuIFEe",
        "colab_type": "code",
        "colab": {}
      },
      "source": [
        "dfx=pd.DataFrame(data=y_test,columns=['label'])  "
      ],
      "execution_count": 0,
      "outputs": []
    },
    {
      "cell_type": "markdown",
      "metadata": {
        "id": "-xRK-rGFSb-R",
        "colab_type": "text"
      },
      "source": [
        "#creating a csv file named as 'y_predicted movie review classification' so that we can download output"
      ]
    },
    {
      "cell_type": "code",
      "metadata": {
        "id": "PmJVTmmDLXwT",
        "colab_type": "code",
        "colab": {}
      },
      "source": [
        "dfx.to_csv('y_predicted moview review classification using neural network.csv',index=True)"
      ],
      "execution_count": 0,
      "outputs": []
    },
    {
      "cell_type": "markdown",
      "metadata": {
        "id": "ttDEEP_uTTlK",
        "colab_type": "text"
      },
      "source": [
        "# 2.USING MULTINOMIAL NAIVE BAYES"
      ]
    },
    {
      "cell_type": "markdown",
      "metadata": {
        "id": "Ql_eSXk1TkB5",
        "colab_type": "text"
      },
      "source": [
        "# IMPORTING LIBRARY"
      ]
    },
    {
      "cell_type": "code",
      "metadata": {
        "id": "-h0U7ZBbLtFx",
        "colab_type": "code",
        "colab": {}
      },
      "source": [
        "from sklearn.naive_bayes import MultinomialNB,BernoulliNB,GaussianNB"
      ],
      "execution_count": 0,
      "outputs": []
    },
    {
      "cell_type": "code",
      "metadata": {
        "id": "3sZ2WILGT1BD",
        "colab_type": "code",
        "colab": {}
      },
      "source": [
        "mnb=MultinomialNB()"
      ],
      "execution_count": 0,
      "outputs": []
    },
    {
      "cell_type": "markdown",
      "metadata": {
        "id": "37EcXKuFUqcr",
        "colab_type": "text"
      },
      "source": [
        "# DIVIDING MY DATA SET FOR TRAINING AND TESTING PURPOSE"
      ]
    },
    {
      "cell_type": "code",
      "metadata": {
        "id": "O2SPNVmJT5Th",
        "colab_type": "code",
        "colab": {}
      },
      "source": [
        "x_val_testing=train_x[:5000]\n",
        "x1_val_testing=train_x1[:5000]\n",
        "x_val_trainig=train_x[5000:]\n",
        "x1_val_training=train_x1[5000:]\n",
        "y_val_testing=train_y[:5000]\n",
        "y_val_training=train_y[5000:]"
      ],
      "execution_count": 0,
      "outputs": []
    },
    {
      "cell_type": "code",
      "metadata": {
        "id": "E-CxNNM4UKuF",
        "colab_type": "code",
        "colab": {
          "base_uri": "https://localhost:8080/",
          "height": 87
        },
        "outputId": "86d3ba38-ad87-4f96-85df-8235d1b45788"
      },
      "source": [
        "mnb.fit(x_val_trainig,y_val_training)"
      ],
      "execution_count": 47,
      "outputs": [
        {
          "output_type": "stream",
          "text": [
            "/usr/local/lib/python3.6/dist-packages/sklearn/utils/validation.py:760: DataConversionWarning: A column-vector y was passed when a 1d array was expected. Please change the shape of y to (n_samples, ), for example using ravel().\n",
            "  y = column_or_1d(y, warn=True)\n"
          ],
          "name": "stderr"
        },
        {
          "output_type": "execute_result",
          "data": {
            "text/plain": [
              "MultinomialNB(alpha=1.0, class_prior=None, fit_prior=True)"
            ]
          },
          "metadata": {
            "tags": []
          },
          "execution_count": 47
        }
      ]
    },
    {
      "cell_type": "code",
      "metadata": {
        "id": "icUXmZxOoQJg",
        "colab_type": "code",
        "colab": {
          "base_uri": "https://localhost:8080/",
          "height": 134
        },
        "outputId": "c07717c1-8c22-428f-ee2a-dcdd71892544"
      },
      "source": [
        "print(train_x1)"
      ],
      "execution_count": 48,
      "outputs": [
        {
          "output_type": "stream",
          "text": [
            "[[0 0 0 ... 0 0 0]\n",
            " [0 0 0 ... 0 0 0]\n",
            " [0 0 0 ... 0 0 0]\n",
            " ...\n",
            " [0 0 0 ... 0 0 0]\n",
            " [0 0 0 ... 0 0 0]\n",
            " [0 0 0 ... 0 0 0]]\n"
          ],
          "name": "stdout"
        }
      ]
    },
    {
      "cell_type": "code",
      "metadata": {
        "id": "1Cxl7pbjUl6s",
        "colab_type": "code",
        "colab": {}
      },
      "source": [
        "y_predicted=mnb.predict(x_val_testing)"
      ],
      "execution_count": 0,
      "outputs": []
    },
    {
      "cell_type": "code",
      "metadata": {
        "id": "uMnvS7T4VQcM",
        "colab_type": "code",
        "colab": {}
      },
      "source": [
        "accuracy=((np.sum(y_predicted==1))/float(np.sum(y_val_testing==1))*100)"
      ],
      "execution_count": 0,
      "outputs": []
    },
    {
      "cell_type": "code",
      "metadata": {
        "id": "xIkIsy4MV39p",
        "colab_type": "code",
        "colab": {
          "base_uri": "https://localhost:8080/",
          "height": 34
        },
        "outputId": "3fdd027f-4a2a-4a6f-bca2-de6272245dd5"
      },
      "source": [
        "accuracy"
      ],
      "execution_count": 51,
      "outputs": [
        {
          "output_type": "execute_result",
          "data": {
            "text/plain": [
              "95.51877270892209"
            ]
          },
          "metadata": {
            "tags": []
          },
          "execution_count": 51
        }
      ]
    },
    {
      "cell_type": "markdown",
      "metadata": {
        "id": "RSq4OxoIXae5",
        "colab_type": "text"
      },
      "source": [
        "# NOW PREDICTING FOR MY TEST DATA"
      ]
    },
    {
      "cell_type": "code",
      "metadata": {
        "id": "mu1znX--XW-K",
        "colab_type": "code",
        "colab": {}
      },
      "source": [
        "y_test1=mnb.predict(test_x)"
      ],
      "execution_count": 0,
      "outputs": []
    },
    {
      "cell_type": "code",
      "metadata": {
        "id": "Xe8FFCKmX1Uo",
        "colab_type": "code",
        "colab": {
          "base_uri": "https://localhost:8080/",
          "height": 34
        },
        "outputId": "e67f2b22-42bc-4a5f-892c-64bf8be47ce5"
      },
      "source": [
        "y_test1"
      ],
      "execution_count": 66,
      "outputs": [
        {
          "output_type": "execute_result",
          "data": {
            "text/plain": [
              "array([0, 0, 0, ..., 1, 1, 0])"
            ]
          },
          "metadata": {
            "tags": []
          },
          "execution_count": 66
        }
      ]
    },
    {
      "cell_type": "code",
      "metadata": {
        "id": "dfTWD669YEn_",
        "colab_type": "code",
        "colab": {
          "base_uri": "https://localhost:8080/",
          "height": 34
        },
        "outputId": "e2dbcdc3-7f6a-42fe-bf04-64d555c24beb"
      },
      "source": [
        "y_test1.shape"
      ],
      "execution_count": 54,
      "outputs": [
        {
          "output_type": "execute_result",
          "data": {
            "text/plain": [
              "(10000,)"
            ]
          },
          "metadata": {
            "tags": []
          },
          "execution_count": 54
        }
      ]
    },
    {
      "cell_type": "code",
      "metadata": {
        "id": "gyvHjc-NYcG-",
        "colab_type": "code",
        "colab": {
          "base_uri": "https://localhost:8080/",
          "height": 34
        },
        "outputId": "7c99d574-d212-46df-f565-262e1b66e08a"
      },
      "source": [
        "y_test1=y_test1.reshape((-1,1))\n",
        "y_test1.shape"
      ],
      "execution_count": 55,
      "outputs": [
        {
          "output_type": "execute_result",
          "data": {
            "text/plain": [
              "(10000, 1)"
            ]
          },
          "metadata": {
            "tags": []
          },
          "execution_count": 55
        }
      ]
    },
    {
      "cell_type": "code",
      "metadata": {
        "id": "_RlHN_ZgYIqB",
        "colab_type": "code",
        "colab": {
          "base_uri": "https://localhost:8080/",
          "height": 34
        },
        "outputId": "cb14e101-71e8-4e2d-996f-28febb91a5a3"
      },
      "source": [
        "y_test.dtype"
      ],
      "execution_count": 56,
      "outputs": [
        {
          "output_type": "execute_result",
          "data": {
            "text/plain": [
              "dtype('<U32')"
            ]
          },
          "metadata": {
            "tags": []
          },
          "execution_count": 56
        }
      ]
    },
    {
      "cell_type": "code",
      "metadata": {
        "id": "b0BbGJkgYM7N",
        "colab_type": "code",
        "colab": {}
      },
      "source": [
        "y_test1=y_test1.astype('str')"
      ],
      "execution_count": 0,
      "outputs": []
    },
    {
      "cell_type": "code",
      "metadata": {
        "id": "DEwKDYZcYTGl",
        "colab_type": "code",
        "colab": {}
      },
      "source": [
        "for i in range(y_test1.shape[0]):\n",
        "  if(y_test1[i][0]>('0.5')):\n",
        "    y_test1[i][0]='pos'\n",
        "  else:\n",
        "    y_test1[i][0]='neg'"
      ],
      "execution_count": 0,
      "outputs": []
    },
    {
      "cell_type": "code",
      "metadata": {
        "id": "8wU6oL73Ytbc",
        "colab_type": "code",
        "colab": {}
      },
      "source": [
        "y_test1.shape"
      ],
      "execution_count": 0,
      "outputs": []
    },
    {
      "cell_type": "code",
      "metadata": {
        "id": "IXCpQIJKY0gO",
        "colab_type": "code",
        "colab": {}
      },
      "source": [
        "y_test1"
      ],
      "execution_count": 0,
      "outputs": []
    },
    {
      "cell_type": "code",
      "metadata": {
        "id": "NxSHXVCMY1nv",
        "colab_type": "code",
        "colab": {}
      },
      "source": [
        "dfx1=pd.DataFrame(data=y_test1,columns=['label'])"
      ],
      "execution_count": 0,
      "outputs": []
    },
    {
      "cell_type": "code",
      "metadata": {
        "id": "eU01ah45ZE8O",
        "colab_type": "code",
        "colab": {}
      },
      "source": [
        "dfx1.to_csv('y_predicted movie classification using multinomial naive bias.csv',index=True)"
      ],
      "execution_count": 0,
      "outputs": []
    },
    {
      "cell_type": "markdown",
      "metadata": {
        "id": "qaxxTFXkaF2x",
        "colab_type": "text"
      },
      "source": [
        "# 3.USING MULTIVARIATE BERNAULLI EVENT MODEL"
      ]
    },
    {
      "cell_type": "code",
      "metadata": {
        "id": "g6s61tRCZWSX",
        "colab_type": "code",
        "colab": {}
      },
      "source": [
        "bnb=BernoulliNB()"
      ],
      "execution_count": 0,
      "outputs": []
    },
    {
      "cell_type": "code",
      "metadata": {
        "id": "g03B4-nhkQ34",
        "colab_type": "code",
        "colab": {
          "base_uri": "https://localhost:8080/",
          "height": 87
        },
        "outputId": "2718aced-9852-460c-8687-c73644d8a3de"
      },
      "source": [
        "# training on data\n",
        "bnb.fit(x1_val_training,y_val_training)"
      ],
      "execution_count": 64,
      "outputs": [
        {
          "output_type": "stream",
          "text": [
            "/usr/local/lib/python3.6/dist-packages/sklearn/utils/validation.py:760: DataConversionWarning: A column-vector y was passed when a 1d array was expected. Please change the shape of y to (n_samples, ), for example using ravel().\n",
            "  y = column_or_1d(y, warn=True)\n"
          ],
          "name": "stderr"
        },
        {
          "output_type": "execute_result",
          "data": {
            "text/plain": [
              "BernoulliNB(alpha=1.0, binarize=0.0, class_prior=None, fit_prior=True)"
            ]
          },
          "metadata": {
            "tags": []
          },
          "execution_count": 64
        }
      ]
    },
    {
      "cell_type": "code",
      "metadata": {
        "id": "IE6asuHmkZjI",
        "colab_type": "code",
        "colab": {}
      },
      "source": [
        "y_bnb=bnb.predict(test_x1)"
      ],
      "execution_count": 0,
      "outputs": []
    },
    {
      "cell_type": "code",
      "metadata": {
        "id": "Ajc4yN_1mmM6",
        "colab_type": "code",
        "colab": {
          "base_uri": "https://localhost:8080/",
          "height": 34
        },
        "outputId": "0867a1a0-c314-4f8c-9356-27664baf04c0"
      },
      "source": [
        "y_bnb"
      ],
      "execution_count": 68,
      "outputs": [
        {
          "output_type": "execute_result",
          "data": {
            "text/plain": [
              "array([0, 0, 0, ..., 1, 1, 0])"
            ]
          },
          "metadata": {
            "tags": []
          },
          "execution_count": 68
        }
      ]
    },
    {
      "cell_type": "code",
      "metadata": {
        "id": "abo9Xyo0tkMK",
        "colab_type": "code",
        "colab": {
          "base_uri": "https://localhost:8080/",
          "height": 34
        },
        "outputId": "7cb5c795-dde4-4c4e-f1be-67c571391fef"
      },
      "source": [
        "y_bnb.shape"
      ],
      "execution_count": 69,
      "outputs": [
        {
          "output_type": "execute_result",
          "data": {
            "text/plain": [
              "(10000,)"
            ]
          },
          "metadata": {
            "tags": []
          },
          "execution_count": 69
        }
      ]
    },
    {
      "cell_type": "code",
      "metadata": {
        "id": "chs4rE9otmT9",
        "colab_type": "code",
        "colab": {}
      },
      "source": [
        "y_bnb=y_bnb.reshape((-1,1))"
      ],
      "execution_count": 0,
      "outputs": []
    },
    {
      "cell_type": "code",
      "metadata": {
        "id": "y8btS-INt1R-",
        "colab_type": "code",
        "colab": {
          "base_uri": "https://localhost:8080/",
          "height": 34
        },
        "outputId": "d1a75e8b-9de9-4ac9-e064-4ea94cc82393"
      },
      "source": [
        "y_bnb.shape"
      ],
      "execution_count": 71,
      "outputs": [
        {
          "output_type": "execute_result",
          "data": {
            "text/plain": [
              "(10000, 1)"
            ]
          },
          "metadata": {
            "tags": []
          },
          "execution_count": 71
        }
      ]
    },
    {
      "cell_type": "code",
      "metadata": {
        "id": "Ex50jQhJt3Sl",
        "colab_type": "code",
        "colab": {}
      },
      "source": [
        "y_bnb=y_bnb.astype('str')\n",
        "for i in range(y_bnb.shape[0]):\n",
        "  if(y_bnb[i][0]>('0.5')):\n",
        "    y_bnb[i][0]='pos'\n",
        "  else:\n",
        "    y_bnb[i][0]='neg'"
      ],
      "execution_count": 0,
      "outputs": []
    },
    {
      "cell_type": "code",
      "metadata": {
        "id": "VDx3NKW3uFHU",
        "colab_type": "code",
        "colab": {
          "base_uri": "https://localhost:8080/",
          "height": 134
        },
        "outputId": "12344bc2-d8d9-4a98-bf4b-9590b984093c"
      },
      "source": [
        "y_bnb"
      ],
      "execution_count": 73,
      "outputs": [
        {
          "output_type": "execute_result",
          "data": {
            "text/plain": [
              "array([['neg'],\n",
              "       ['neg'],\n",
              "       ['neg'],\n",
              "       ...,\n",
              "       ['pos'],\n",
              "       ['pos'],\n",
              "       ['neg']], dtype='<U21')"
            ]
          },
          "metadata": {
            "tags": []
          },
          "execution_count": 73
        }
      ]
    },
    {
      "cell_type": "code",
      "metadata": {
        "id": "zv2ipE4xuIxA",
        "colab_type": "code",
        "colab": {}
      },
      "source": [
        "dfybnb=pd.DataFrame(data=y_bnb,columns=['label'])"
      ],
      "execution_count": 0,
      "outputs": []
    },
    {
      "cell_type": "code",
      "metadata": {
        "id": "ORLd85mYvdfG",
        "colab_type": "code",
        "colab": {}
      },
      "source": [
        "dfybnb.to_csv('y_predicted by multivariate bernuli event model.csv',index=True)"
      ],
      "execution_count": 0,
      "outputs": []
    },
    {
      "cell_type": "code",
      "metadata": {
        "id": "DtSaNn18vtHf",
        "colab_type": "code",
        "colab": {}
      },
      "source": [
        ""
      ],
      "execution_count": 0,
      "outputs": []
    }
  ]
}